{
 "cells": [
  {
   "cell_type": "code",
   "execution_count": null,
   "metadata": {},
   "outputs": [],
   "source": [
    "'''5. Usando as bibliotecas Pandas e MatPlotLib e um dataset (podes selecionar das aulas, fazer \n",
    "download na plataforma kaggle ou escolher um dataset pessoal), elabora um notebook \n",
    "jupyter no qual efetues: \n",
    "•1_3 Limpeza e tratamento de dados; \n",
    "•2_3 Processamento de dados: groupby, filter, criação de novas colunas,…; \n",
    "•3_3 Visualização de dados; \n",
    "    alínea          Cotação (escala 1-20) \n",
    "        1                       3 \n",
    "        2                       4 \n",
    "        3                       4 \n",
    "        4                       4 \n",
    "        5                       5 '''"
   ]
  },
  {
   "cell_type": "code",
   "execution_count": 13,
   "metadata": {},
   "outputs": [],
   "source": [
    "#import pandas \n",
    "import pandas as pd"
   ]
  },
  {
   "cell_type": "code",
   "execution_count": null,
   "metadata": {},
   "outputs": [
    {
     "ename": "NameError",
     "evalue": "name 'df_cast' is not defined",
     "output_type": "error",
     "traceback": [
      "\u001b[31m---------------------------------------------------------------------------\u001b[39m",
      "\u001b[31mNameError\u001b[39m                                 Traceback (most recent call last)",
      "\u001b[36mCell\u001b[39m\u001b[36m \u001b[39m\u001b[32mIn[14]\u001b[39m\u001b[32m, line 5\u001b[39m\n\u001b[32m      2\u001b[39m casts = pd.read_csv(\u001b[33m'\u001b[39m\u001b[33mcast.csv\u001b[39m\u001b[33m'\u001b[39m, index_col=\u001b[38;5;28;01mNone\u001b[39;00m) \n\u001b[32m      4\u001b[39m \u001b[38;5;66;03m#Imprime as 5 primeiras linhas\u001b[39;00m\n\u001b[32m----> \u001b[39m\u001b[32m5\u001b[39m \u001b[38;5;28mprint\u001b[39m(\u001b[43mdf_cast\u001b[49m.head())\n\u001b[32m      6\u001b[39m \u001b[38;5;66;03m#Imprime as 5 últimas linhas\u001b[39;00m\n\u001b[32m      7\u001b[39m \u001b[38;5;28mprint\u001b[39m(df_cast.tail())\n",
      "\u001b[31mNameError\u001b[39m: name 'df_cast' is not defined"
     ]
    }
   ],
   "source": [
    "#ler ficheiro cast.csv para dataframe do pandas casts\n",
    "casts = pd.read_csv('cast.csv', index_col=None) \n",
    " \n",
    "#Imprime as 5 primeiras linhas\n",
    "print(df_casts.head())\n",
    "#Imprime as 5 últimas linhas\n",
    "print(df_casts.tail())"
   ]
  },
  {
   "cell_type": "code",
   "execution_count": null,
   "metadata": {},
   "outputs": [],
   "source": [
    "#ler ficheiro titles.csv para dataframe pandas titles \n",
    "titles = pd.read_csv('titles.csv', index_col =None) \n",
    " \n",
    "#Imprime as 5 primeiras linhas\n",
    "print(df_titles.head())\n",
    "#Imprime as 5 últimas linhas\n",
    "print(df_titles.tail())"
   ]
  },
  {
   "cell_type": "code",
   "execution_count": 27,
   "metadata": {},
   "outputs": [
    {
     "name": "stdout",
     "output_type": "stream",
     "text": [
      "year\n",
      "2003    2\n",
      "2004    2\n",
      "2005    2\n",
      "2006    1\n",
      "2007    2\n",
      "dtype: int64\n"
     ]
    },
    {
     "data": {
      "text/plain": [
       "year  title                               \n",
       "2003  The In-Laws                             1\n",
       "      The Visual Bible: The Gospel of John    1\n",
       "2004  Resident Evil: Apocalypse               1\n",
       "      Siblings                                1\n",
       "2005  Cinderella Man                          1\n",
       "dtype: int64"
      ]
     },
     "execution_count": 27,
     "metadata": {},
     "output_type": "execute_result"
    }
   ],
   "source": [
    "c = casts  \n",
    " \n",
    "#obtem o dataframe cf a partir de c filtrando os dados que verifiquem a condição do autor ser 'Aaron Abrams' \n",
    "cf = c[c['name'] == 'Aaron Abrams']  \n",
    " \n",
    "#Agrupar os dados do dataframe anterior pela coluna year \n",
    "print(cf.groupby(['year']).size().head()) \n",
    " \n",
    "#group by com múltiplas colunas \n",
    "gbmultiplecolumns = cf.groupby(['year', 'title']).size() \n",
    "gbmultiplecolumns.head()"
   ]
  },
  {
   "cell_type": "code",
   "execution_count": 28,
   "metadata": {},
   "outputs": [
    {
     "name": "stdout",
     "output_type": "stream",
     "text": [
      "                    title  year      country        date\n",
      "0   #73, Shaanthi Nivaasa  2007        India  2007-06-15\n",
      "1                 #Beings  2015      Romania  2015-01-29\n",
      "2               #Declimax  2018  Netherlands  2018-01-21\n",
      "3  #Ewankosau saranghaeyo  2015  Philippines  2015-01-21\n",
      "4                 #Horror  2015          USA  2015-11-20\n",
      "        title  year            name   type    character     n\n",
      "5767   Amelia  2009    Aaron Abrams  actor  Slim Gordon   8.0\n",
      "23319  Amelia  2009  Jeremy Akerman  actor      Sheriff  19.0\n",
      "        title  year    country        date\n",
      "20543  Amelia  1966     Mexico  1966-03-10\n",
      "20544  Amelia  2009     Canada  2009-10-23\n",
      "20545  Amelia  2009        USA  2009-10-23\n",
      "20546  Amelia  2009  Australia  2009-11-12\n",
      "20547  Amelia  2009  Singapore  2009-11-12\n",
      "    title  year          name   type    character    n    country        date\n",
      "0  Amelia  2009  Aaron Abrams  actor  Slim Gordon  8.0     Canada  2009-10-23\n",
      "1  Amelia  2009  Aaron Abrams  actor  Slim Gordon  8.0        USA  2009-10-23\n",
      "2  Amelia  2009  Aaron Abrams  actor  Slim Gordon  8.0  Australia  2009-11-12\n",
      "3  Amelia  2009  Aaron Abrams  actor  Slim Gordon  8.0  Singapore  2009-11-12\n",
      "4  Amelia  2009  Aaron Abrams  actor  Slim Gordon  8.0    Ireland  2009-11-13\n"
     ]
    }
   ],
   "source": [
    "#leitura dos dados do ficheiro release_dates.csv para o dataframe release \n",
    "release = pd.read_csv('release_dates.csv', index_col=None) \n",
    "print(release.head()) \n",
    " \n",
    "c_amelia = casts[ casts['title'] == 'Amelia'] \n",
    "print(c_amelia.head()) \n",
    "print(release [ release['title'] == 'Amelia' ].head()) \n",
    " \n",
    "#imprimeir os primeiras cinco linhas do merge (fusão) c_amelia com o dataframe \n",
    "release \n",
    "print(c_amelia.merge(release).head()) "
   ]
  },
  {
   "cell_type": "code",
   "execution_count": null,
   "metadata": {},
   "outputs": [],
   "source": []
  }
 ],
 "metadata": {
  "kernelspec": {
   "display_name": "Python 3",
   "language": "python",
   "name": "python3"
  },
  "language_info": {
   "codemirror_mode": {
    "name": "ipython",
    "version": 3
   },
   "file_extension": ".py",
   "mimetype": "text/x-python",
   "name": "python",
   "nbconvert_exporter": "python",
   "pygments_lexer": "ipython3",
   "version": "3.13.2"
  }
 },
 "nbformat": 4,
 "nbformat_minor": 2
}
