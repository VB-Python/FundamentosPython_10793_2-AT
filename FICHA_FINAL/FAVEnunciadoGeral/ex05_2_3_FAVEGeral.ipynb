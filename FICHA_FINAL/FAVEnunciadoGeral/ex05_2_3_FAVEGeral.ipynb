{
 "cells": [
  {
   "cell_type": "code",
   "execution_count": null,
   "metadata": {},
   "outputs": [
    {
     "data": {
      "text/plain": [
       "'5. Usando as bibliotecas Pandas e MatPlotLib e um dataset (podes selecionar das aulas, fazer \\ndownload na plataforma kaggle ou escolher um dataset pessoal), elabora um notebook \\njupyter no qual efetues: \\n•1_3 Limpeza e tratamento de dados; \\n•2_3 Processamento de dados: groupby, filter, criação de novas colunas,…; \\n•3_3 Visualização de dados; \\n    alínea          Cotação (escala 1-20) \\n        1                       3 \\n        2                       4 \\n        3                       4 \\n        4                       4 \\n        5                       5 '"
      ]
     },
     "execution_count": 6,
     "metadata": {},
     "output_type": "execute_result"
    }
   ],
   "source": [
    "'''5. Usando as bibliotecas Pandas e MatPlotLib e um dataset (podes selecionar das aulas, fazer \n",
    "download na plataforma kaggle ou escolher um dataset pessoal), elabora um notebook \n",
    "jupyter no qual efetues: \n",
    "•1_3 Limpeza e tratamento de dados; \n",
    "•2_3 Processamento de dados: groupby, filter, criação de novas colunas,…; \n",
    "•3_3 Visualização de dados; \n",
    "    alínea          Cotação (escala 1-20) \n",
    "        1                       3 \n",
    "        2                       4 \n",
    "        3                       4 \n",
    "        4                       4 \n",
    "        5                       5 '''"
   ]
  },
  {
   "cell_type": "code",
   "execution_count": 1,
   "metadata": {},
   "outputs": [],
   "source": [
    "#import pandas \n",
    "import pandas as pd\n"
   ]
  },
  {
   "cell_type": "code",
   "execution_count": 2,
   "metadata": {},
   "outputs": [
    {
     "name": "stdout",
     "output_type": "stream",
     "text": [
      "                  title  year      name   type                character     n\n",
      "0        Closet Monster  2015  Buffy #1  actor                  Buffy 4  31.0\n",
      "1       Suuri illusioni  1985    Homo $  actor                   Guests  22.0\n",
      "2   Battle of the Sexes  2017   $hutter  actor          Bobby Riggs Fan  10.0\n",
      "3  Secret in Their Eyes  2015   $hutter  actor          2002 Dodger Fan   NaN\n",
      "4            Steve Jobs  2015   $hutter  actor  1988 Opera House Patron   NaN \n",
      "\n",
      "<<<<<>>>>>\n",
      "\n",
      "                          title  year                        name     type  \\\n",
      "74996  Mia fora kai ena... moro  2011     Penelope Anastasopoulou  actress   \n",
      "74997         The Magician King  2004       Tiannah Anastassiades  actress   \n",
      "74998        Festival of Lights  2010             Zoe Anastassiou  actress   \n",
      "74999                Toxic Tutu  2016             Zoe Anastassiou  actress   \n",
      "75000           Fugitive Pieces  2007  Anastassia Anastassopoulou  actress   \n",
      "\n",
      "                     character     n  \n",
      "74996       Popi voulkanizater  11.0  \n",
      "74997  Unicycle Race Attendant   NaN  \n",
      "74998       Guidance Counselor  20.0  \n",
      "74999        Demon of Toxicity   NaN  \n",
      "75000             Laundry Girl  25.0  \n"
     ]
    }
   ],
   "source": [
    "#ler ficheiro cast.csv para dataframe do pandas casts\n",
    "casts = pd.read_csv('cast.csv', index_col=None) \n",
    " \n",
    "#Imprime as 5 primeiras linhas\n",
    "print(casts.head(),\"\\n\\n<<<<<>>>>>\\n\")\n",
    "#Imprime as 5 últimas linhas\n",
    "print(casts.tail())"
   ]
  },
  {
   "cell_type": "code",
   "execution_count": 3,
   "metadata": {},
   "outputs": [
    {
     "name": "stdout",
     "output_type": "stream",
     "text": [
      "                     title  year\n",
      "0           The Rising Son  1990\n",
      "1  The Thousand Plane Raid  1969\n",
      "2         Crucea de piatra  1993\n",
      "3                  Country  2000\n",
      "4               Gaiking II  2011 \n",
      "\n",
      "<<<<<>>>>>\n",
      "\n",
      "                      title  year\n",
      "49995                 Rebel  1970\n",
      "49996               Suzanne  1996\n",
      "49997                 Bomba  2013\n",
      "49998  Aao Jao Ghar Tumhara  1984\n",
      "49999            Mrs. Munck  1995\n"
     ]
    }
   ],
   "source": [
    "#ler ficheiro titles.csv para dataframe pandas titles \n",
    "titles = pd.read_csv('titles.csv', index_col =None) \n",
    " \n",
    "#Imprime as 5 primeiras linhas\n",
    "print(titles.head(),\"\\n\\n<<<<<>>>>>\\n\")\n",
    "#Imprime as 5 últimas linhas\n",
    "print(titles.tail())"
   ]
  },
  {
   "cell_type": "code",
   "execution_count": 4,
   "metadata": {},
   "outputs": [
    {
     "name": "stdout",
     "output_type": "stream",
     "text": [
      "year\n",
      "2003    2\n",
      "2004    2\n",
      "2005    2\n",
      "2006    1\n",
      "2007    2\n",
      "dtype: int64 \n",
      "\n",
      "<<<<<>>>>>\n",
      "\n"
     ]
    },
    {
     "data": {
      "text/plain": [
       "year  title                               \n",
       "2003  The In-Laws                             1\n",
       "      The Visual Bible: The Gospel of John    1\n",
       "2004  Resident Evil: Apocalypse               1\n",
       "      Siblings                                1\n",
       "2005  Cinderella Man                          1\n",
       "dtype: int64"
      ]
     },
     "execution_count": 4,
     "metadata": {},
     "output_type": "execute_result"
    }
   ],
   "source": [
    "c = casts  \n",
    " \n",
    "#obtem o dataframe cf a partir de c filtrando os dados que verifiquem a condição do autor ser 'Aaron Abrams' \n",
    "cf = c[c['name'] == 'Aaron Abrams']  \n",
    " \n",
    "#Agrupar os dados do dataframe anterior (autor ser 'Aaron Abrams') pela coluna year (ano), primeiras 5 linhas\n",
    "print(cf.groupby(['year']).size().head(),\"\\n\\n<<<<<>>>>>\\n\") \n",
    " \n",
    "#groupby agrupar por múltiplas colunas, 2 colunas, year e tittle. Mostra as 5 linhas iniciais.\n",
    "gbmultiplecolumns = cf.groupby(['year', 'title']).size() \n",
    "gbmultiplecolumns.head()"
   ]
  },
  {
   "cell_type": "code",
   "execution_count": 22,
   "metadata": {},
   "outputs": [
    {
     "name": "stdout",
     "output_type": "stream",
     "text": [
      "                    title  year      country        date\n",
      "0   #73, Shaanthi Nivaasa  2007        India  2007-06-15\n",
      "1                 #Beings  2015      Romania  2015-01-29\n",
      "2               #Declimax  2018  Netherlands  2018-01-21\n",
      "3  #Ewankosau saranghaeyo  2015  Philippines  2015-01-21\n",
      "4                 #Horror  2015          USA  2015-11-20 \n",
      "\n",
      "<<<<<>>>>>\n",
      "\n",
      "        title  year            name   type    character     n\n",
      "5767   Amelia  2009    Aaron Abrams  actor  Slim Gordon   8.0\n",
      "23319  Amelia  2009  Jeremy Akerman  actor      Sheriff  19.0 \n",
      "\n",
      "<<<<<>>>>>\n",
      "\n",
      "        title  year    country        date\n",
      "20543  Amelia  1966     Mexico  1966-03-10\n",
      "20544  Amelia  2009     Canada  2009-10-23\n",
      "20545  Amelia  2009        USA  2009-10-23\n",
      "20546  Amelia  2009  Australia  2009-11-12\n",
      "20547  Amelia  2009  Singapore  2009-11-12 \n",
      "\n",
      "<<<<<>>>>>\n",
      "\n",
      "    title  year          name   type    character    n    country        date\n",
      "0  Amelia  2009  Aaron Abrams  actor  Slim Gordon  8.0     Canada  2009-10-23\n",
      "1  Amelia  2009  Aaron Abrams  actor  Slim Gordon  8.0        USA  2009-10-23\n",
      "2  Amelia  2009  Aaron Abrams  actor  Slim Gordon  8.0  Australia  2009-11-12\n",
      "3  Amelia  2009  Aaron Abrams  actor  Slim Gordon  8.0  Singapore  2009-11-12\n",
      "4  Amelia  2009  Aaron Abrams  actor  Slim Gordon  8.0    Ireland  2009-11-13\n"
     ]
    }
   ],
   "source": [
    "# Extra: Exemplo Merge\n",
    "\n",
    "\n",
    "#leitura dos dados do ficheiro release_dates.csv para o dataframe release \n",
    "release = pd.read_csv('release_dates.csv', index_col=None) \n",
    "print(release.head(),\"\\n\\n<<<<<>>>>>\\n\") \n",
    "\n",
    "# filtrar Amelia do cast.csv\n",
    "c_amelia = casts[ casts['title'] == 'Amelia'] \n",
    "print(c_amelia.head(),\"\\n\\n<<<<<>>>>>\\n\") \n",
    "\n",
    "# filtrar Amelia do release_dates.csv\n",
    "print(release [ release['title'] == 'Amelia' ].head(),\"\\n\\n<<<<<>>>>>\\n\") \n",
    " \n",
    "#imprime os primeiras cinco linhas do merge (fusão) c_amelia com o dataframe, junta os 2 resultados\n",
    "release \n",
    "print(c_amelia.merge(release).head()) "
   ]
  },
  {
   "cell_type": "code",
   "execution_count": 33,
   "metadata": {},
   "outputs": [
    {
     "name": "stdout",
     "output_type": "stream",
     "text": [
      "Dados agrupados de c_amelia:\n",
      "     title  amelia_count\n",
      "0  Amelia             2 \n",
      "\n",
      "<<<<<>>>>>\n",
      "\n",
      "Primeiras linhas de c_amelia:\n",
      "         title  year            name   type    character     n\n",
      "5767   Amelia  2009    Aaron Abrams  actor  Slim Gordon   8.0\n",
      "23319  Amelia  2009  Jeremy Akerman  actor      Sheriff  19.0 \n",
      "\n",
      "<<<<<>>>>>\n",
      "\n",
      "Dados agrupados de release para 'Amelia':\n",
      "        title  release_count\n",
      "5775  Amelia             25\n",
      "Dados agrupados de c_amelia para 'Amelia':\n",
      "     title  amelia_count\n",
      "0  Amelia             2\n",
      "\n",
      "Comparação entre c_amelia e release:\n",
      "                         title  amelia_count  release_count\n",
      "0       #73, Shaanthi Nivaasa           NaN              1\n",
      "1                     #Beings           NaN              1\n",
      "2                   #Declimax           NaN              1\n",
      "3      #Ewankosau saranghaeyo           NaN              1\n",
      "4                     #Horror           NaN              2\n",
      "...                       ...           ...            ...\n",
      "14169                 Botchan           NaN              1\n",
      "14170                 Botched           NaN              3\n",
      "14171    Bote, dyaryo, garapa           NaN              1\n",
      "14172    Both Barrels Blazing           NaN              1\n",
      "14173         Botika sa baryo           NaN              1\n",
      "\n",
      "[14174 rows x 3 columns]\n"
     ]
    }
   ],
   "source": [
    "\n",
    "\n",
    "# Suponha que você já tenha carregado seus DataFrames\n",
    "# Agrupar os dados de 'c_amelia' por 'title' e contar o número de registros por título\n",
    "c_amelia_grouped = c_amelia.groupby('title').size().reset_index(name='amelia_count')\n",
    "print(\"Dados agrupados de c_amelia:\\n\", c_amelia_grouped.head(), \"\\n\\n<<<<<>>>>>\\n\")\n",
    "\n",
    "# Exibir as primeiras linhas de 'c_amelia'\n",
    "print(\"Primeiras linhas de c_amelia:\\n\", c_amelia.head(), \"\\n\\n<<<<<>>>>>\\n\")\n",
    "\n",
    "release_grouped = release.groupby('title').size().reset_index(name='release_count')\n",
    "# Agora, podemos comparar os dados agrupados de 'release' e 'c_amelia'\n",
    "print(\"Dados agrupados de release para 'Amelia':\\n\", release_grouped[release_grouped['title'] == 'Amelia'])\n",
    "print(\"Dados agrupados de c_amelia para 'Amelia':\\n\", c_amelia_grouped[c_amelia_grouped['title'] == 'Amelia'])\n",
    "\n",
    "# Comparação completa entre release_grouped e c_amelia_grouped\n",
    "comparison = pd.merge(c_amelia_grouped, release_grouped, on='title', how='outer', suffixes=('_amelia', '_release'))\n",
    "print(\"\\nComparação entre c_amelia e release:\\n\", comparison)"
   ]
  },
  {
   "cell_type": "code",
   "execution_count": 55,
   "metadata": {},
   "outputs": [
    {
     "name": "stdout",
     "output_type": "stream",
     "text": [
      "                  title  year      name   type                character     n\n",
      "0        Closet Monster  2015  Buffy #1  actor                  Buffy 4  31.0\n",
      "1       Suuri illusioni  1985    Homo $  actor                   Guests  22.0\n",
      "2   Battle of the Sexes  2017   $hutter  actor          Bobby Riggs Fan  10.0\n",
      "3  Secret in Their Eyes  2015   $hutter  actor          2002 Dodger Fan   NaN\n",
      "4            Steve Jobs  2015   $hutter  actor  1988 Opera House Patron   NaN \n",
      "\n",
      "<<<<<>>>>>\n",
      "\n",
      "                  title  year      name   type                character     n  \\\n",
      "0        Closet Monster  2015  Buffy #1  actor                  Buffy 4  31.0   \n",
      "1       Suuri illusioni  1985    Homo $  actor                   Guests  22.0   \n",
      "2   Battle of the Sexes  2017   $hutter  actor          Bobby Riggs Fan  10.0   \n",
      "3  Secret in Their Eyes  2015   $hutter  actor          2002 Dodger Fan   NaN   \n",
      "4            Steve Jobs  2015   $hutter  actor  1988 Opera House Patron   NaN   \n",
      "\n",
      "   actor  actress  \n",
      "0   True    False  \n",
      "1   True    False  \n",
      "2   True    False  \n",
      "3   True    False  \n",
      "4   True    False  \n"
     ]
    }
   ],
   "source": [
    "#criação de novas colunas\n",
    "\n",
    "c = casts\n",
    "#Imprime as 5 primeiras linhas\n",
    "print(casts.head(),\"\\n\\n<<<<<>>>>>\\n\")\n",
    "# O código abaixo usa o método get_dummies da biblioteca pandas para criar 2 novas colunas para cada\n",
    "# um dos 2 valores possíveis para a coluna 'type'.\n",
    "novas_colunas = pd.get_dummies(c[\"type\"]) #cria novas colunas binárias para cada valor único em type.\n",
    "\n",
    "c2 = pd.concat([c,novas_colunas], axis=1) # axis = 1 concatena colunas, axis = 0 concatena linhas\n",
    "print(c2.head())"
   ]
  },
  {
   "cell_type": "code",
   "execution_count": null,
   "metadata": {},
   "outputs": [
    {
     "name": "stdout",
     "output_type": "stream",
     "text": [
      "                  title  year      name                character     n  actor  \\\n",
      "0        Closet Monster  2015  Buffy #1                  Buffy 4  31.0   True   \n",
      "1       Suuri illusioni  1985    Homo $                   Guests  22.0   True   \n",
      "2   Battle of the Sexes  2017   $hutter          Bobby Riggs Fan  10.0   True   \n",
      "3  Secret in Their Eyes  2015   $hutter          2002 Dodger Fan   NaN   True   \n",
      "4            Steve Jobs  2015   $hutter  1988 Opera House Patron   NaN   True   \n",
      "\n",
      "   actress  \n",
      "0    False  \n",
      "1    False  \n",
      "2    False  \n",
      "3    False  \n",
      "4    False  \n"
     ]
    }
   ],
   "source": [
    "#Agora podemos remover a coluna original dos dados 'type'\n",
    "c2.drop('type', axis=1, inplace=True)\n",
    "#Imprime as 5 primeiras linhas\n",
    "print(c2.head())"
   ]
  }
 ],
 "metadata": {
  "kernelspec": {
   "display_name": "Python 3",
   "language": "python",
   "name": "python3"
  },
  "language_info": {
   "codemirror_mode": {
    "name": "ipython",
    "version": 3
   },
   "file_extension": ".py",
   "mimetype": "text/x-python",
   "name": "python",
   "nbconvert_exporter": "python",
   "pygments_lexer": "ipython3",
   "version": "3.13.2"
  }
 },
 "nbformat": 4,
 "nbformat_minor": 2
}
