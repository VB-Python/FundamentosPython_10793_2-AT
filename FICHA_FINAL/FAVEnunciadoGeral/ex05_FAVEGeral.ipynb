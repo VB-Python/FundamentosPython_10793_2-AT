{
 "cells": [
  {
   "cell_type": "code",
   "execution_count": null,
   "metadata": {},
   "outputs": [],
   "source": [
    "'''5. Usando as bibliotecas Pandas e MatPlotLib e um dataset (podes selecionar das aulas, fazer \n",
    "download na plataforma kaggle ou escolher um dataset pessoal), elabora um notebook \n",
    "jupyter no qual efetues: \n",
    "• Limpeza e tratamento de dados; \n",
    "• Processamento de dados: groupby, filter, criação de novas colunas,…; \n",
    "• Visualização de dados; \n",
    "    alínea          Cotação (escala 1-20) \n",
    "        1                       3 \n",
    "        2                       4 \n",
    "        3                       4 \n",
    "        4                       4 \n",
    "        5                       5 '''\n",
    "\n",
    "\n",
    "\n"
   ]
  }
 ],
 "metadata": {
  "kernelspec": {
   "display_name": "Python 3",
   "language": "python",
   "name": "python3"
  },
  "language_info": {
   "name": "python",
   "version": "3.13.2"
  }
 },
 "nbformat": 4,
 "nbformat_minor": 2
}
