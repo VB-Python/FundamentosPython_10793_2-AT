{
 "cells": [
  {
   "cell_type": "code",
   "execution_count": 11,
   "metadata": {},
   "outputs": [
    {
     "data": {
      "text/plain": [
       "'5. Usando as bibliotecas Pandas e MatPlotLib e um dataset (podes selecionar das aulas, fazer \\ndownload na plataforma kaggle ou escolher um dataset pessoal), elabora um notebook \\njupyter no qual efetues: \\n•1_3 Limpeza e tratamento de dados; \\n'"
      ]
     },
     "execution_count": 11,
     "metadata": {},
     "output_type": "execute_result"
    }
   ],
   "source": [
    "'''5. Usando as bibliotecas Pandas e MatPlotLib e um dataset (podes selecionar das aulas, fazer \n",
    "download na plataforma kaggle ou escolher um dataset pessoal), elabora um notebook \n",
    "jupyter no qual efetues: \n",
    "•1_3 Limpeza e tratamento de dados; \n",
    "'''\n",
    "\n",
    "\n"
   ]
  },
  {
   "cell_type": "code",
   "execution_count": 1,
   "metadata": {},
   "outputs": [],
   "source": [
    "\n",
    "import pandas as pd\n",
    "import pylab as plt\n",
    "import matplotlib.pyplot as plt\n"
   ]
  },
  {
   "cell_type": "code",
   "execution_count": 2,
   "metadata": {},
   "outputs": [
    {
     "name": "stdout",
     "output_type": "stream",
     "text": [
      "  show_id     type                             title         director  \\\n",
      "0      s1    Movie              Dick Johnson Is Dead  Kirsten Johnson   \n",
      "1      s3  TV Show                         Ganglands  Julien Leclercq   \n",
      "2      s6  TV Show                     Midnight Mass    Mike Flanagan   \n",
      "3     s14    Movie  Confessions of an Invisible Girl    Bruno Garotti   \n",
      "4      s8    Movie                           Sankofa     Haile Gerima   \n",
      "\n",
      "         country date_added  release_year rating  duration  \\\n",
      "0  United States  9/25/2021          2020  PG-13    90 min   \n",
      "1         France  9/24/2021          2021  TV-MA  1 Season   \n",
      "2  United States  9/24/2021          2021  TV-MA  1 Season   \n",
      "3         Brazil  9/22/2021          2021  TV-PG    91 min   \n",
      "4  United States  9/24/2021          1993  TV-MA   125 min   \n",
      "\n",
      "                                           listed_in  \n",
      "0                                      Documentaries  \n",
      "1  Crime TV Shows, International TV Shows, TV Act...  \n",
      "2                 TV Dramas, TV Horror, TV Mysteries  \n",
      "3                 Children & Family Movies, Comedies  \n",
      "4   Dramas, Independent Movies, International Movies  \n",
      "     show_id     type               title   director        country  \\\n",
      "8785   s8797  TV Show          Yunus Emre  Not Given         Turkey   \n",
      "8786   s8798  TV Show           Zak Storm  Not Given  United States   \n",
      "8787   s8801  TV Show  Zindagi Gulzar Hai  Not Given       Pakistan   \n",
      "8788   s8784  TV Show                Yoko  Not Given       Pakistan   \n",
      "8789   s8786  TV Show                 YOM  Not Given       Pakistan   \n",
      "\n",
      "      date_added  release_year rating   duration  \\\n",
      "8785   1/17/2017          2016  TV-PG  2 Seasons   \n",
      "8786   9/13/2018          2016  TV-Y7  3 Seasons   \n",
      "8787  12/15/2016          2012  TV-PG   1 Season   \n",
      "8788   6/23/2018          2016   TV-Y   1 Season   \n",
      "8789    6/7/2018          2016  TV-Y7   1 Season   \n",
      "\n",
      "                                              listed_in  \n",
      "8785                  International TV Shows, TV Dramas  \n",
      "8786                                           Kids' TV  \n",
      "8787  International TV Shows, Romantic TV Shows, TV ...  \n",
      "8788                                           Kids' TV  \n",
      "8789                                           Kids' TV  \n"
     ]
    }
   ],
   "source": [
    "#carrega o CSV e transforma-o num DataFrame do pandas, que é mais fácil de manipular e analisar.\n",
    "df_train = pd.read_csv(\"netflix1.csv\")\n",
    "\n",
    "#Imprime as 5 primeiras linhas\n",
    "print(df_train.head())\n",
    "#Imprime as 5 últimas linhas\n",
    "print(df_train.tail())"
   ]
  },
  {
   "cell_type": "code",
   "execution_count": 3,
   "metadata": {},
   "outputs": [
    {
     "name": "stdout",
     "output_type": "stream",
     "text": [
      "show_id         object\n",
      "type            object\n",
      "title           object\n",
      "director        object\n",
      "country         object\n",
      "date_added      object\n",
      "release_year     int64\n",
      "rating          object\n",
      "duration        object\n",
      "listed_in       object\n",
      "dtype: object\n"
     ]
    }
   ],
   "source": [
    "#Vê o tipo de dados de cada coluna\n",
    "print(df_train.dtypes)"
   ]
  },
  {
   "cell_type": "code",
   "execution_count": 4,
   "metadata": {},
   "outputs": [
    {
     "name": "stdout",
     "output_type": "stream",
     "text": [
      "<class 'pandas.core.frame.DataFrame'>\n",
      "RangeIndex: 8790 entries, 0 to 8789\n",
      "Data columns (total 10 columns):\n",
      " #   Column        Non-Null Count  Dtype \n",
      "---  ------        --------------  ----- \n",
      " 0   show_id       8790 non-null   object\n",
      " 1   type          8790 non-null   object\n",
      " 2   title         8790 non-null   object\n",
      " 3   director      8790 non-null   object\n",
      " 4   country       8790 non-null   object\n",
      " 5   date_added    8790 non-null   object\n",
      " 6   release_year  8790 non-null   int64 \n",
      " 7   rating        8790 non-null   object\n",
      " 8   duration      8790 non-null   object\n",
      " 9   listed_in     8790 non-null   object\n",
      "dtypes: int64(1), object(9)\n",
      "memory usage: 686.8+ KB\n",
      "None\n"
     ]
    }
   ],
   "source": [
    "# O tipo 'object' é uma string para pandas que apresenta problemas com algoritmos de aprendizado de máquina\n",
    "# Se quisermos usá-los como recursos, precisaremos convertê-los em representações numéricas.\n",
    "#Obtenha algumas informações básicas sobre o DataFrame:\n",
    "\n",
    "print(df_train.info())"
   ]
  },
  {
   "cell_type": "code",
   "execution_count": 5,
   "metadata": {},
   "outputs": [
    {
     "name": "stdout",
     "output_type": "stream",
     "text": [
      "       release_year\n",
      "count   8790.000000\n",
      "mean    2014.183163\n",
      "std        8.825466\n",
      "min     1925.000000\n",
      "25%     2013.000000\n",
      "50%     2017.000000\n",
      "75%     2019.000000\n",
      "max     2021.000000\n"
     ]
    }
   ],
   "source": [
    "\n",
    "#Agora vamos gerar várias estatísticas descritivas no DataFrame:\n",
    "\n",
    "print(df_train.describe())"
   ]
  },
  {
   "cell_type": "code",
   "execution_count": 6,
   "metadata": {},
   "outputs": [
    {
     "name": "stdout",
     "output_type": "stream",
     "text": [
      "show_id         False\n",
      "type            False\n",
      "title           False\n",
      "director        False\n",
      "country         False\n",
      "date_added      False\n",
      "release_year    False\n",
      "rating          False\n",
      "duration        False\n",
      "listed_in       False\n",
      "dtype: bool\n",
      "\n"
     ]
    }
   ],
   "source": [
    "\n",
    "##Lista as colunas e marca as que possuem algum valor nulo\n",
    "print(df_train.isnull().any())\n",
    "print()"
   ]
  },
  {
   "cell_type": "code",
   "execution_count": null,
   "metadata": {},
   "outputs": [
    {
     "name": "stdout",
     "output_type": "stream",
     "text": [
      "<class 'pandas.core.frame.DataFrame'>\n",
      "RangeIndex: 8790 entries, 0 to 8789\n",
      "Data columns (total 9 columns):\n",
      " #   Column        Non-Null Count  Dtype \n",
      "---  ------        --------------  ----- \n",
      " 0   show_id       8790 non-null   object\n",
      " 1   type          8790 non-null   object\n",
      " 2   title         8790 non-null   object\n",
      " 3   director      8790 non-null   object\n",
      " 4   country       8790 non-null   object\n",
      " 5   release_year  8790 non-null   int64 \n",
      " 6   rating        8790 non-null   object\n",
      " 7   duration      8790 non-null   object\n",
      " 8   listed_in     8790 non-null   object\n",
      "dtypes: int64(1), object(8)\n",
      "memory usage: 618.2+ KB\n"
     ]
    }
   ],
   "source": [
    "# vamos simplesmente remover a coluna de nossos dados.\n",
    "#Obs. essa á a opção apenas para exercitar as possibilidades de forma didática.\n",
    "# Vários algoritmos podem beneficiar da informação da cabine, mesmo com poucos exemplos.\n",
    "## Cria um novo dataframe (df_train2) sem a coluna date_added\n",
    "df_train2 = df_train.drop(\"date_added\", axis=1)\n",
    "df_train2.info()"
   ]
  },
  {
   "cell_type": "code",
   "execution_count": 8,
   "metadata": {},
   "outputs": [
    {
     "name": "stdout",
     "output_type": "stream",
     "text": [
      "2014.183162684869\n",
      "2017.0\n"
     ]
    },
    {
     "data": {
      "image/png": "[encoded data removed]",
      "text/plain": [
       "<Figure size 640x480 with 1 Axes>"
      ]
     },
     "metadata": {},
     "output_type": "display_data"
    }
   ],
   "source": [
    "#Agora vamos analisar a coluna release_year.\n",
    "\n",
    "#Ver a média e a mediana\n",
    "# e ver o histograma dos dados originais.\n",
    "\n",
    "media_idade = df_train[\"release_year\"].mean()\n",
    "mediana_idade = df_train[\"release_year\"].median()\n",
    "\n",
    "print(media_idade)\n",
    "print(mediana_idade)\n",
    "\n",
    "df_train[\"release_year\"].hist()\n",
    "plt.title(\"Ano_Lançamento\")\n",
    "plt.show()"
   ]
  },
  {
   "cell_type": "code",
   "execution_count": 9,
   "metadata": {},
   "outputs": [
    {
     "name": "stdout",
     "output_type": "stream",
     "text": [
      "country\n",
      "United States    3240\n",
      "Name: country, dtype: int64\n"
     ]
    }
   ],
   "source": [
    "\n",
    "# Vamos analisar a coluna country\n",
    "print(df_train2[df_train2[\"country\"] == \"United States\"].groupby(\"country\")[\"country\"].count()) \n",
    "#Numero de filmes originários dos Estados Unidos"
   ]
  },
  {
   "cell_type": "code",
   "execution_count": 10,
   "metadata": {},
   "outputs": [],
   "source": [
    "#Forma de salvar os dados\n",
    "\n",
    "df_train2.to_csv(\"netflix1_no_nulls.csv\", index=False)"
   ]
  }
 ],
 "metadata": {
  "kernelspec": {
   "display_name": "Python 3",
   "language": "python",
   "name": "python3"
  },
  "language_info": {
   "codemirror_mode": {
    "name": "ipython",
    "version": 3
   },
   "file_extension": ".py",
   "mimetype": "text/x-python",
   "name": "python",
   "nbconvert_exporter": "python",
   "pygments_lexer": "ipython3",
   "version": "3.13.2"
  }
 },
 "nbformat": 4,
 "nbformat_minor": 2
}
