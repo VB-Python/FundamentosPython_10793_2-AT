{
 "cells": [
  {
   "cell_type": "code",
   "execution_count": 32,
   "metadata": {},
   "outputs": [
    {
     "data": {
      "text/plain": [
       "'4. Utilizando a biblioteca NumPy : \\na. Cria um array de números 1 com shape (8, 2) \\nb. Cria um array de zeros com shape (5, 7) \\nc. Subtraia o novo array de outro com dados aleatórios e armazene o numa variável \\nchamada subarray \\nd. Calcula a média dos valores do array subarray '"
      ]
     },
     "execution_count": 32,
     "metadata": {},
     "output_type": "execute_result"
    }
   ],
   "source": [
    "'''4. Utilizando a biblioteca NumPy : \n",
    "a. Cria um array de números 1 com shape (8, 2) \n",
    "b. Cria um array de zeros com shape (5, 7) \n",
    "c. Subtraia o novo array de outro com dados aleatórios e armazene o numa variável \n",
    "chamada subarray \n",
    "d. Calcula a média dos valores do array subarray '''"
   ]
  },
  {
   "cell_type": "code",
   "execution_count": null,
   "metadata": {},
   "outputs": [],
   "source": [
    "# 4. Utilizando a biblioteca NumPy : \n",
    "\n",
    "import numpy        # Import o NumPy\n",
    "import numpy as np\n"
   ]
  },
  {
   "cell_type": "code",
   "execution_count": null,
   "metadata": {},
   "outputs": [
    {
     "name": "stdout",
     "output_type": "stream",
     "text": [
      "[[1. 1.]\n",
      " [1. 1.]\n",
      " [1. 1.]\n",
      " [1. 1.]\n",
      " [1. 1.]\n",
      " [1. 1.]\n",
      " [1. 1.]\n",
      " [1. 1.]]\n",
      "(8, 2)\n"
     ]
    }
   ],
   "source": [
    "# a. Cria um array de números 1 com shape (8, 2).\n",
    "\n",
    "obj = numpy.ones((8,2))\n",
    "print(obj)\n",
    "print(obj.shape)"
   ]
  },
  {
   "cell_type": "code",
   "execution_count": null,
   "metadata": {},
   "outputs": [
    {
     "name": "stdout",
     "output_type": "stream",
     "text": [
      "[[0. 0. 0. 0. 0. 0. 0.]\n",
      " [0. 0. 0. 0. 0. 0. 0.]\n",
      " [0. 0. 0. 0. 0. 0. 0.]\n",
      " [0. 0. 0. 0. 0. 0. 0.]\n",
      " [0. 0. 0. 0. 0. 0. 0.]]\n",
      "(5, 7)\n"
     ]
    }
   ],
   "source": [
    "# b. Cria um array de zeros com shape (5, 7).\n",
    "\n",
    "obj = numpy.zeros((5,7))\n",
    "print(obj)\n",
    "print(obj.shape)"
   ]
  },
  {
   "cell_type": "code",
   "execution_count": 33,
   "metadata": {},
   "outputs": [
    {
     "name": "stdout",
     "output_type": "stream",
     "text": [
      "Array dados aleatórios:\n",
      " [[6 2 3 2]\n",
      " [4 4 2 1]]\n",
      "Array obj (inicializado com zeros):\n",
      " [[0. 0. 0. 0. 0. 0. 0.]\n",
      " [0. 0. 0. 0. 0. 0. 0.]\n",
      " [0. 0. 0. 0. 0. 0. 0.]\n",
      " [0. 0. 0. 0. 0. 0. 0.]\n",
      " [0. 0. 0. 0. 0. 0. 0.]]\n",
      "As formas são diferentes: (2, 4) vs (5, 7)\n",
      "random_array após preenchimento com zeros para (5, 4):\n",
      " [[6 2 3 2]\n",
      " [4 4 2 1]\n",
      " [0 0 0 0]\n",
      " [0 0 0 0]\n",
      " [0 0 0 0]]\n",
      "random_array após expansão para (5, 7):\n",
      " [[6. 2. 3. 2. 0. 0. 0.]\n",
      " [4. 4. 2. 1. 0. 0. 0.]\n",
      " [0. 0. 0. 0. 0. 0. 0.]\n",
      " [0. 0. 0. 0. 0. 0. 0.]\n",
      " [0. 0. 0. 0. 0. 0. 0.]]\n",
      "\n",
      "Resultado da subtração, array subarray:\n",
      " [[-6. -2. -3. -2.  0.  0.  0.]\n",
      " [-4. -4. -2. -1.  0.  0.  0.]\n",
      " [ 0.  0.  0.  0.  0.  0.  0.]\n",
      " [ 0.  0.  0.  0.  0.  0.  0.]\n",
      " [ 0.  0.  0.  0.  0.  0.  0.]]\n"
     ]
    }
   ],
   "source": [
    "# c. Subtraia o novo array de outro com dados aleatórios e armazene o numa variável \n",
    "#    chamada subarray.\n",
    "\n",
    "#import numpy as np\n",
    "\n",
    "# Criar um array random_array com valores aleatórios\n",
    "random_array = np.random.randint(1, 7, size=(2, 4))\n",
    "print(f\"Array dados aleatórios:\\n\", random_array)\n",
    "\n",
    "# Array obj com zeros (5, 7), alenea b\n",
    "#obj = np.zeros((5, 7))\n",
    "print(f\"Array obj (inicializado com zeros):\\n\", obj)\n",
    "\n",
    "# Verificar se os arrays são iguais\n",
    "if obj.shape != random_array.shape:\n",
    "    print(f\"As formas são diferentes: {random_array.shape} vs {obj.shape}\")\n",
    "    \n",
    "    # Comparar arrays\n",
    "    if obj.shape[0] > random_array.shape[0]:\n",
    "        # Se obj tem mais linhas, aumentamos o random_array com zeros\n",
    "        random_array = np.pad(random_array, ((0, obj.shape[0] - random_array.shape[0]), (0, 0)), mode='constant', constant_values=0)\n",
    "        print(f\"random_array após preenchimento com zeros para (5, 4):\\n\", random_array)\n",
    "    elif obj.shape[0] < random_array.shape[0]:\n",
    "        # Se random_array tem mais linhas, cortamos random_array\n",
    "        random_array = random_array[:obj.shape[0], :]\n",
    "        print(f\"random_array após corte para (5, 4):\\n\", random_array)\n",
    "    \n",
    "    if obj.shape[1] > random_array.shape[1]:\n",
    "        # Se obj tem mais colunas, aumentamos random_array\n",
    "        random_array = np.hstack([random_array, np.zeros((random_array.shape[0], obj.shape[1] - random_array.shape[1]))])\n",
    "        print(f\"random_array após expansão para (5, 7):\\n\", random_array)\n",
    "    elif obj.shape[1] < random_array.shape[1]:\n",
    "        # Se random_array tem mais colunas, cortamos random_array\n",
    "        random_array = random_array[:, :obj.shape[1]]\n",
    "        print(f\"random_array após corte para (5, 7):\\n\", random_array)\n",
    "\n",
    "# Agora j´podemos subtrair\n",
    "subarray = obj - random_array\n",
    "print(\"\\nResultado da subtração, array subarray:\\n\", subarray)"
   ]
  },
  {
   "cell_type": "code",
   "execution_count": 34,
   "metadata": {},
   "outputs": [
    {
     "name": "stdout",
     "output_type": "stream",
     "text": [
      "Média dos valores de subarray: -0.6857142857142857\n"
     ]
    }
   ],
   "source": [
    "#d. Calcula a média dos valores do array subarray\n",
    "\n",
    "# Calculo média de valores de subarray\n",
    "media_subarray = np.mean(subarray)\n",
    "print(f\"Média dos valores de subarray: {media_subarray}\")"
   ]
  }
 ],
 "metadata": {
  "kernelspec": {
   "display_name": "Python 3",
   "language": "python",
   "name": "python3"
  },
  "language_info": {
   "codemirror_mode": {
    "name": "ipython",
    "version": 3
   },
   "file_extension": ".py",
   "mimetype": "text/x-python",
   "name": "python",
   "nbconvert_exporter": "python",
   "pygments_lexer": "ipython3",
   "version": "3.13.2"
  }
 },
 "nbformat": 4,
 "nbformat_minor": 2
}
