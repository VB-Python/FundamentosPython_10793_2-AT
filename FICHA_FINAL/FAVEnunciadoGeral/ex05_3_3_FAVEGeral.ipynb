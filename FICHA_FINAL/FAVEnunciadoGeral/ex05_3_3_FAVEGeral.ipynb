{
 "cells": [
  {
   "cell_type": "code",
   "execution_count": null,
   "metadata": {},
   "outputs": [],
   "source": [
    "'''5. Usando as bibliotecas Pandas e MatPlotLib e um dataset (podes selecionar das aulas, fazer \n",
    "download na plataforma kaggle ou escolher um dataset pessoal), elabora um notebook \n",
    "jupyter no qual efetues: \n",
    "•1_3 Limpeza e tratamento de dados; \n",
    "•2_3 Processamento de dados: groupby, filter, criação de novas colunas,…; \n",
    "•3_3 Visualização de dados; \n",
    "    alínea          Cotação (escala 1-20) \n",
    "        1                       3 \n",
    "        2                       4 \n",
    "        3                       4 \n",
    "        4                       4 \n",
    "        5                       5 '''"
   ]
  },
  {
   "cell_type": "code",
   "execution_count": 3,
   "metadata": {},
   "outputs": [],
   "source": [
    "#import pandas \n",
    "import pandas as pd\n",
    "import matplotlib.pyplot as plt"
   ]
  },
  {
   "cell_type": "code",
   "execution_count": 4,
   "metadata": {},
   "outputs": [
    {
     "name": "stdout",
     "output_type": "stream",
     "text": [
      "   alínea  Cotação\n",
      "0       1        3\n",
      "1       2        4\n",
      "2       3        4\n",
      "3       4        4\n",
      "4       5        5\n"
     ]
    }
   ],
   "source": [
    "\n",
    "# Criando o DataFrame com as colunas 'alínea' e 'Cotação'\n",
    "data = {\n",
    "    'alínea': [1, 2, 3, 4, 5],\n",
    "    'Cotação': [3, 4, 4, 4, 5]\n",
    "}\n",
    "\n",
    "df = pd.DataFrame(data)\n",
    "print(df)"
   ]
  },
  {
   "cell_type": "code",
   "execution_count": 5,
   "metadata": {},
   "outputs": [
    {
     "data": {
      "image/png": "[encoded data removed]",
      "text/plain": [
       "<Figure size 640x480 with 1 Axes>"
      ]
     },
     "metadata": {},
     "output_type": "display_data"
    }
   ],
   "source": [
    "\n",
    "# Criando um gráfico de barras\n",
    "plt.bar(df['alínea'], df['Cotação'], color='skyblue')\n",
    "\n",
    "# Adicionando título e rótulos aos eixos\n",
    "plt.title('Cotação por Alínea')\n",
    "plt.xlabel('Alínea')\n",
    "plt.ylabel('Cotação')\n",
    "\n",
    "# Exibindo o gráfico\n",
    "plt.show()"
   ]
  },
  {
   "cell_type": "code",
   "execution_count": null,
   "metadata": {},
   "outputs": [],
   "source": []
  },
  {
   "cell_type": "code",
   "execution_count": null,
   "metadata": {},
   "outputs": [],
   "source": []
  },
  {
   "cell_type": "code",
   "execution_count": null,
   "metadata": {},
   "outputs": [],
   "source": []
  }
 ],
 "metadata": {
  "kernelspec": {
   "display_name": "Python 3",
   "language": "python",
   "name": "python3"
  },
  "language_info": {
   "codemirror_mode": {
    "name": "ipython",
    "version": 3
   },
   "file_extension": ".py",
   "mimetype": "text/x-python",
   "name": "python",
   "nbconvert_exporter": "python",
   "pygments_lexer": "ipython3",
   "version": "3.13.2"
  }
 },
 "nbformat": 4,
 "nbformat_minor": 2
}
