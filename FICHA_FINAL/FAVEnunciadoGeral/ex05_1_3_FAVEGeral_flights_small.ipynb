{
 "cells": [
  {
   "cell_type": "code",
   "execution_count": null,
   "metadata": {},
   "outputs": [
    {
     "data": {
      "text/plain": [
       "'5. Usando as bibliotecas Pandas e MatPlotLib e um dataset (podes selecionar das aulas, fazer \\ndownload na plataforma kaggle ou escolher um dataset pessoal), elabora um notebook \\njupyter no qual efetues: \\n•1_3 Limpeza e tratamento de dados; \\n•2_3 Processamento de dados: groupby, filter, criação de novas colunas,…; \\n•3_3 Visualização de dados; \\n    alínea          Cotação (escala 1-20) \\n        1                       3 \\n        2                       4 \\n        3                       4 \\n        4                       4 \\n        5                       5 '"
      ]
     },
     "execution_count": 1,
     "metadata": {},
     "output_type": "execute_result"
    }
   ],
   "source": [
    "'''5. Usando as bibliotecas Pandas e MatPlotLib e um dataset (podes selecionar das aulas, fazer \n",
    "download na plataforma kaggle ou escolher um dataset pessoal), elabora um notebook \n",
    "jupyter no qual efetues: \n",
    "•1_3 Limpeza e tratamento de dados; \n",
    "'''\n",
    "\n",
    "\n"
   ]
  },
  {
   "cell_type": "code",
   "execution_count": 2,
   "metadata": {},
   "outputs": [],
   "source": [
    "\n",
    "import pandas as pd\n",
    "import pylab as plt\n"
   ]
  },
  {
   "cell_type": "code",
   "execution_count": 3,
   "metadata": {},
   "outputs": [
    {
     "name": "stdout",
     "output_type": "stream",
     "text": [
      "   Unnamed: 0  YEAR  MONTH  DAY  DAY_OF_WEEK AIRLINE  FLIGHT_NUMBER  \\\n",
      "0           0  2015      1    1            4      AS             98   \n",
      "1           1  2015      1    1            4      AA           2336   \n",
      "2           2  2015      1    1            4      US            840   \n",
      "3           3  2015      1    1            4      AA            258   \n",
      "4           4  2015      1    1            4      AS            135   \n",
      "\n",
      "  TAIL_NUMBER ORIGIN_AIRPORT DESTINATION_AIRPORT  ...  ARRIVAL_TIME  \\\n",
      "0      N407AS            ANC                 SEA  ...         408.0   \n",
      "1      N3KUAA            LAX                 PBI  ...         741.0   \n",
      "2      N171US            SFO                 CLT  ...         811.0   \n",
      "3      N3HYAA            LAX                 MIA  ...         756.0   \n",
      "4      N527AS            SEA                 ANC  ...         259.0   \n",
      "\n",
      "   ARRIVAL_DELAY  DIVERTED  CANCELLED  CANCELLATION_REASON  AIR_SYSTEM_DELAY  \\\n",
      "0          -22.0         0          0                  NaN               NaN   \n",
      "1           -9.0         0          0                  NaN               NaN   \n",
      "2            5.0         0          0                  NaN               NaN   \n",
      "3           -9.0         0          0                  NaN               NaN   \n",
      "4          -21.0         0          0                  NaN               NaN   \n",
      "\n",
      "   SECURITY_DELAY  AIRLINE_DELAY  LATE_AIRCRAFT_DELAY  WEATHER_DELAY  \n",
      "0             NaN            NaN                  NaN            NaN  \n",
      "1             NaN            NaN                  NaN            NaN  \n",
      "2             NaN            NaN                  NaN            NaN  \n",
      "3             NaN            NaN                  NaN            NaN  \n",
      "4             NaN            NaN                  NaN            NaN  \n",
      "\n",
      "[5 rows x 32 columns]\n",
      "     Unnamed: 0  YEAR  MONTH  DAY  DAY_OF_WEEK AIRLINE  FLIGHT_NUMBER  \\\n",
      "995         995  2015      1    1            4      WN            552   \n",
      "996         996  2015      1    1            4      WN           3239   \n",
      "997         997  2015      1    1            4      WN           1912   \n",
      "998         998  2015      1    1            4      UA           1660   \n",
      "999         999  2015      1    1            4      US            445   \n",
      "\n",
      "    TAIL_NUMBER ORIGIN_AIRPORT DESTINATION_AIRPORT  ...  ARRIVAL_TIME  \\\n",
      "995      N291WN            SAT                 ELP  ...         810.0   \n",
      "996      N905WN            TPA                 BWI  ...         907.0   \n",
      "997      N554WN            TUS                 DEN  ...         846.0   \n",
      "998      N17730            SNA                 EWR  ...        1433.0   \n",
      "999      N187US            RDU                 CLT  ...         833.0   \n",
      "\n",
      "     ARRIVAL_DELAY  DIVERTED  CANCELLED  CANCELLATION_REASON  \\\n",
      "995           30.0         0          0                  NaN   \n",
      "996          -18.0         0          0                  NaN   \n",
      "997           -9.0         0          0                  NaN   \n",
      "998          -51.0         0          0                  NaN   \n",
      "999           23.0         0          0                  NaN   \n",
      "\n",
      "     AIR_SYSTEM_DELAY  SECURITY_DELAY  AIRLINE_DELAY  LATE_AIRCRAFT_DELAY  \\\n",
      "995               1.0             0.0           29.0                  0.0   \n",
      "996               NaN             NaN            NaN                  NaN   \n",
      "997               NaN             NaN            NaN                  NaN   \n",
      "998               NaN             NaN            NaN                  NaN   \n",
      "999              23.0             0.0            0.0                  0.0   \n",
      "\n",
      "     WEATHER_DELAY  \n",
      "995            0.0  \n",
      "996            NaN  \n",
      "997            NaN  \n",
      "998            NaN  \n",
      "999            0.0  \n",
      "\n",
      "[5 rows x 32 columns]\n"
     ]
    }
   ],
   "source": [
    "#Lê os dados\n",
    "df_train = pd.read_csv(\"flights_small.csv\")\n",
    "#Imprime as 5 primeiras linhas\n",
    "print(df_train.head())\n",
    "#Imprime as 5 últimas linhas\n",
    "print(df_train.tail())"
   ]
  },
  {
   "cell_type": "code",
   "execution_count": 4,
   "metadata": {},
   "outputs": [
    {
     "name": "stdout",
     "output_type": "stream",
     "text": [
      "Unnamed: 0               int64\n",
      "YEAR                     int64\n",
      "MONTH                    int64\n",
      "DAY                      int64\n",
      "DAY_OF_WEEK              int64\n",
      "AIRLINE                 object\n",
      "FLIGHT_NUMBER            int64\n",
      "TAIL_NUMBER             object\n",
      "ORIGIN_AIRPORT          object\n",
      "DESTINATION_AIRPORT     object\n",
      "SCHEDULED_DEPARTURE      int64\n",
      "DEPARTURE_TIME         float64\n",
      "DEPARTURE_DELAY        float64\n",
      "TAXI_OUT               float64\n",
      "WHEELS_OFF             float64\n",
      "SCHEDULED_TIME         float64\n",
      "ELAPSED_TIME           float64\n",
      "AIR_TIME               float64\n",
      "DISTANCE                 int64\n",
      "WHEELS_ON              float64\n",
      "TAXI_IN                float64\n",
      "SCHEDULED_ARRIVAL        int64\n",
      "ARRIVAL_TIME           float64\n",
      "ARRIVAL_DELAY          float64\n",
      "DIVERTED                 int64\n",
      "CANCELLED                int64\n",
      "CANCELLATION_REASON     object\n",
      "AIR_SYSTEM_DELAY       float64\n",
      "SECURITY_DELAY         float64\n",
      "AIRLINE_DELAY          float64\n",
      "LATE_AIRCRAFT_DELAY    float64\n",
      "WEATHER_DELAY          float64\n",
      "dtype: object\n"
     ]
    }
   ],
   "source": [
    "#Vê o tipo de dados de cada coluna\n",
    "print(df_train.dtypes)"
   ]
  },
  {
   "cell_type": "code",
   "execution_count": 5,
   "metadata": {},
   "outputs": [
    {
     "name": "stdout",
     "output_type": "stream",
     "text": [
      "<class 'pandas.core.frame.DataFrame'>\n",
      "RangeIndex: 1000 entries, 0 to 999\n",
      "Data columns (total 32 columns):\n",
      " #   Column               Non-Null Count  Dtype  \n",
      "---  ------               --------------  -----  \n",
      " 0   Unnamed: 0           1000 non-null   int64  \n",
      " 1   YEAR                 1000 non-null   int64  \n",
      " 2   MONTH                1000 non-null   int64  \n",
      " 3   DAY                  1000 non-null   int64  \n",
      " 4   DAY_OF_WEEK          1000 non-null   int64  \n",
      " 5   AIRLINE              1000 non-null   object \n",
      " 6   FLIGHT_NUMBER        1000 non-null   int64  \n",
      " 7   TAIL_NUMBER          998 non-null    object \n",
      " 8   ORIGIN_AIRPORT       1000 non-null   object \n",
      " 9   DESTINATION_AIRPORT  1000 non-null   object \n",
      " 10  SCHEDULED_DEPARTURE  1000 non-null   int64  \n",
      " 11  DEPARTURE_TIME       916 non-null    float64\n",
      " 12  DEPARTURE_DELAY      916 non-null    float64\n",
      " 13  TAXI_OUT             916 non-null    float64\n",
      " 14  WHEELS_OFF           916 non-null    float64\n",
      " 15  SCHEDULED_TIME       1000 non-null   float64\n",
      " 16  ELAPSED_TIME         915 non-null    float64\n",
      " 17  AIR_TIME             915 non-null    float64\n",
      " 18  DISTANCE             1000 non-null   int64  \n",
      " 19  WHEELS_ON            916 non-null    float64\n",
      " 20  TAXI_IN              916 non-null    float64\n",
      " 21  SCHEDULED_ARRIVAL    1000 non-null   int64  \n",
      " 22  ARRIVAL_TIME         916 non-null    float64\n",
      " 23  ARRIVAL_DELAY        915 non-null    float64\n",
      " 24  DIVERTED             1000 non-null   int64  \n",
      " 25  CANCELLED            1000 non-null   int64  \n",
      " 26  CANCELLATION_REASON  84 non-null     object \n",
      " 27  AIR_SYSTEM_DELAY     114 non-null    float64\n",
      " 28  SECURITY_DELAY       114 non-null    float64\n",
      " 29  AIRLINE_DELAY        114 non-null    float64\n",
      " 30  LATE_AIRCRAFT_DELAY  114 non-null    float64\n",
      " 31  WEATHER_DELAY        114 non-null    float64\n",
      "dtypes: float64(16), int64(11), object(5)\n",
      "memory usage: 250.1+ KB\n",
      "None\n"
     ]
    }
   ],
   "source": [
    "# O tipo 'object' é uma string para pandas que apresenta problemas com algoritmos de aprendizado de máquina\n",
    "# Se quisermos usá-los como recursos, precisaremos convertê-los em representações numéricas.\n",
    "#Obtenha algumas informações básicas sobre o DataFrame:\n",
    "\n",
    "print(df_train.info())"
   ]
  },
  {
   "cell_type": "code",
   "execution_count": 6,
   "metadata": {},
   "outputs": [
    {
     "name": "stdout",
     "output_type": "stream",
     "text": [
      "        Unnamed: 0    YEAR   MONTH     DAY  DAY_OF_WEEK  FLIGHT_NUMBER  \\\n",
      "count  1000.000000  1000.0  1000.0  1000.0       1000.0    1000.000000   \n",
      "mean    499.500000  2015.0     1.0     1.0          4.0    2045.809000   \n",
      "std     288.819436     0.0     0.0     0.0          0.0    1904.369595   \n",
      "min       0.000000  2015.0     1.0     1.0          4.0       9.000000   \n",
      "25%     249.750000  2015.0     1.0     1.0          4.0     601.750000   \n",
      "50%     499.500000  2015.0     1.0     1.0          4.0    1302.500000   \n",
      "75%     749.250000  2015.0     1.0     1.0          4.0    2967.750000   \n",
      "max     999.000000  2015.0     1.0     1.0          4.0    7423.000000   \n",
      "\n",
      "       SCHEDULED_DEPARTURE  DEPARTURE_TIME  DEPARTURE_DELAY    TAXI_OUT  ...  \\\n",
      "count          1000.000000      916.000000       916.000000  916.000000  ...   \n",
      "mean            597.307000      596.631004         3.969432   16.830786  ...   \n",
      "std             124.772509      146.448414        28.180743    7.826728  ...   \n",
      "min               5.000000        2.000000       -18.000000    3.000000  ...   \n",
      "25%             600.000000      557.000000        -6.000000   12.000000  ...   \n",
      "50%             615.000000      620.000000        -3.000000   15.000000  ...   \n",
      "75%             646.000000      651.000000         1.000000   20.000000  ...   \n",
      "max             705.000000     2354.000000       364.000000   62.000000  ...   \n",
      "\n",
      "       SCHEDULED_ARRIVAL  ARRIVAL_TIME  ARRIVAL_DELAY     DIVERTED  \\\n",
      "count        1000.000000    916.000000     915.000000  1000.000000   \n",
      "mean          868.528000    872.482533      -0.683060     0.001000   \n",
      "std           179.686573    186.930234      31.098666     0.031623   \n",
      "min           320.000000    259.000000     -51.000000     0.000000   \n",
      "25%           750.000000    747.000000     -15.000000     0.000000   \n",
      "50%           841.500000    840.000000      -6.000000     0.000000   \n",
      "75%           931.000000    937.000000       5.000000     0.000000   \n",
      "max          1534.000000   1554.000000     376.000000     1.000000   \n",
      "\n",
      "         CANCELLED  AIR_SYSTEM_DELAY  SECURITY_DELAY  AIRLINE_DELAY  \\\n",
      "count  1000.000000        114.000000      114.000000     114.000000   \n",
      "mean      0.084000         13.456140        0.403509      24.473684   \n",
      "std       0.277527         17.451394        4.308295      45.514018   \n",
      "min       0.000000          0.000000        0.000000       0.000000   \n",
      "25%       0.000000          0.000000        0.000000       0.000000   \n",
      "50%       0.000000         11.000000        0.000000       7.500000   \n",
      "75%       0.000000         20.000000        0.000000      30.750000   \n",
      "max       1.000000         97.000000       46.000000     364.000000   \n",
      "\n",
      "       LATE_AIRCRAFT_DELAY  WEATHER_DELAY  \n",
      "count           114.000000     114.000000  \n",
      "mean              3.754386      13.798246  \n",
      "std              29.858534      38.199564  \n",
      "min               0.000000       0.000000  \n",
      "25%               0.000000       0.000000  \n",
      "50%               0.000000       0.000000  \n",
      "75%               0.000000       0.000000  \n",
      "max             306.000000     213.000000  \n",
      "\n",
      "[8 rows x 27 columns]\n"
     ]
    }
   ],
   "source": [
    "#Podemos ver que TAIL_NUMBER, DEPARTURE_TIME, DEPARTURE_DELAY,TAXI_OUT,\n",
    "# WHEELS_OFF,ELAPSED_TIME,AIR_TIME,WHEELS_ON, TAXI_IN,ARRIVAL_TIME,\n",
    "# ARRIVAL_DELAY,AIR_SYSTEM_DELAY, SECURITY_DELAY,AIRLINE_DELAY,LATE_AIRCRAFT_DELAY,\n",
    "# e EATHER_DELAY têm valores ausentes, CANCELLATION_REASON tem muitos valores ausentes.\n",
    "\n",
    "#Agora vamos gerar várias estatísticas descritivas no DataFrame:\n",
    "\n",
    "print(df_train.describe())"
   ]
  },
  {
   "cell_type": "code",
   "execution_count": 7,
   "metadata": {},
   "outputs": [
    {
     "name": "stdout",
     "output_type": "stream",
     "text": [
      "Unnamed: 0             False\n",
      "YEAR                   False\n",
      "MONTH                  False\n",
      "DAY                    False\n",
      "DAY_OF_WEEK            False\n",
      "AIRLINE                False\n",
      "FLIGHT_NUMBER          False\n",
      "TAIL_NUMBER             True\n",
      "ORIGIN_AIRPORT         False\n",
      "DESTINATION_AIRPORT    False\n",
      "SCHEDULED_DEPARTURE    False\n",
      "DEPARTURE_TIME          True\n",
      "DEPARTURE_DELAY         True\n",
      "TAXI_OUT                True\n",
      "WHEELS_OFF              True\n",
      "SCHEDULED_TIME         False\n",
      "ELAPSED_TIME            True\n",
      "AIR_TIME                True\n",
      "DISTANCE               False\n",
      "WHEELS_ON               True\n",
      "TAXI_IN                 True\n",
      "SCHEDULED_ARRIVAL      False\n",
      "ARRIVAL_TIME            True\n",
      "ARRIVAL_DELAY           True\n",
      "DIVERTED               False\n",
      "CANCELLED              False\n",
      "CANCELLATION_REASON     True\n",
      "AIR_SYSTEM_DELAY        True\n",
      "SECURITY_DELAY          True\n",
      "AIRLINE_DELAY           True\n",
      "LATE_AIRCRAFT_DELAY     True\n",
      "WEATHER_DELAY           True\n",
      "dtype: bool\n",
      "\n"
     ]
    }
   ],
   "source": [
    "\n",
    "# Lista as colunas e marca as que possuem algum valor nulo\n",
    "print(df_train.isnull().any())\n",
    "print()"
   ]
  },
  {
   "cell_type": "code",
   "execution_count": 8,
   "metadata": {},
   "outputs": [
    {
     "name": "stdout",
     "output_type": "stream",
     "text": [
      "<bound method DataFrame.info of      Unnamed: 0  YEAR  MONTH  DAY  DAY_OF_WEEK AIRLINE  FLIGHT_NUMBER  \\\n",
      "0             0  2015      1    1            4      AS             98   \n",
      "1             1  2015      1    1            4      AA           2336   \n",
      "2             2  2015      1    1            4      US            840   \n",
      "3             3  2015      1    1            4      AA            258   \n",
      "4             4  2015      1    1            4      AS            135   \n",
      "..          ...   ...    ...  ...          ...     ...            ...   \n",
      "995         995  2015      1    1            4      WN            552   \n",
      "996         996  2015      1    1            4      WN           3239   \n",
      "997         997  2015      1    1            4      WN           1912   \n",
      "998         998  2015      1    1            4      UA           1660   \n",
      "999         999  2015      1    1            4      US            445   \n",
      "\n",
      "    TAIL_NUMBER ORIGIN_AIRPORT DESTINATION_AIRPORT  ...  ARRIVAL_TIME  \\\n",
      "0        N407AS            ANC                 SEA  ...         408.0   \n",
      "1        N3KUAA            LAX                 PBI  ...         741.0   \n",
      "2        N171US            SFO                 CLT  ...         811.0   \n",
      "3        N3HYAA            LAX                 MIA  ...         756.0   \n",
      "4        N527AS            SEA                 ANC  ...         259.0   \n",
      "..          ...            ...                 ...  ...           ...   \n",
      "995      N291WN            SAT                 ELP  ...         810.0   \n",
      "996      N905WN            TPA                 BWI  ...         907.0   \n",
      "997      N554WN            TUS                 DEN  ...         846.0   \n",
      "998      N17730            SNA                 EWR  ...        1433.0   \n",
      "999      N187US            RDU                 CLT  ...         833.0   \n",
      "\n",
      "     ARRIVAL_DELAY  DIVERTED  CANCELLED  CANCELLATION_REASON  \\\n",
      "0            -22.0         0          0                  NaN   \n",
      "1             -9.0         0          0                  NaN   \n",
      "2              5.0         0          0                  NaN   \n",
      "3             -9.0         0          0                  NaN   \n",
      "4            -21.0         0          0                  NaN   \n",
      "..             ...       ...        ...                  ...   \n",
      "995           30.0         0          0                  NaN   \n",
      "996          -18.0         0          0                  NaN   \n",
      "997           -9.0         0          0                  NaN   \n",
      "998          -51.0         0          0                  NaN   \n",
      "999           23.0         0          0                  NaN   \n",
      "\n",
      "     AIR_SYSTEM_DELAY  SECURITY_DELAY  AIRLINE_DELAY  LATE_AIRCRAFT_DELAY  \\\n",
      "0                 NaN             NaN            NaN                  NaN   \n",
      "1                 NaN             NaN            NaN                  NaN   \n",
      "2                 NaN             NaN            NaN                  NaN   \n",
      "3                 NaN             NaN            NaN                  NaN   \n",
      "4                 NaN             NaN            NaN                  NaN   \n",
      "..                ...             ...            ...                  ...   \n",
      "995               1.0             0.0           29.0                  0.0   \n",
      "996               NaN             NaN            NaN                  NaN   \n",
      "997               NaN             NaN            NaN                  NaN   \n",
      "998               NaN             NaN            NaN                  NaN   \n",
      "999              23.0             0.0            0.0                  0.0   \n",
      "\n",
      "     WEATHER_DELAY  \n",
      "0              NaN  \n",
      "1              NaN  \n",
      "2              NaN  \n",
      "3              NaN  \n",
      "4              NaN  \n",
      "..             ...  \n",
      "995            0.0  \n",
      "996            NaN  \n",
      "997            NaN  \n",
      "998            NaN  \n",
      "999            0.0  \n",
      "\n",
      "[1000 rows x 32 columns]>\n"
     ]
    }
   ],
   "source": [
    "# Na informação básica da dataframe, podemos ver o número de valores não nulos de cada coluna.\n",
    "\n",
    "print(df_train.info)"
   ]
  },
  {
   "cell_type": "code",
   "execution_count": 9,
   "metadata": {},
   "outputs": [
    {
     "name": "stdout",
     "output_type": "stream",
     "text": [
      "<class 'pandas.core.frame.DataFrame'>\n",
      "RangeIndex: 1000 entries, 0 to 999\n",
      "Data columns (total 31 columns):\n",
      " #   Column               Non-Null Count  Dtype  \n",
      "---  ------               --------------  -----  \n",
      " 0   Unnamed: 0           1000 non-null   int64  \n",
      " 1   YEAR                 1000 non-null   int64  \n",
      " 2   MONTH                1000 non-null   int64  \n",
      " 3   DAY                  1000 non-null   int64  \n",
      " 4   DAY_OF_WEEK          1000 non-null   int64  \n",
      " 5   AIRLINE              1000 non-null   object \n",
      " 6   FLIGHT_NUMBER        1000 non-null   int64  \n",
      " 7   TAIL_NUMBER          998 non-null    object \n",
      " 8   ORIGIN_AIRPORT       1000 non-null   object \n",
      " 9   DESTINATION_AIRPORT  1000 non-null   object \n",
      " 10  SCHEDULED_DEPARTURE  1000 non-null   int64  \n",
      " 11  DEPARTURE_TIME       916 non-null    float64\n",
      " 12  DEPARTURE_DELAY      916 non-null    float64\n",
      " 13  TAXI_OUT             916 non-null    float64\n",
      " 14  WHEELS_OFF           916 non-null    float64\n",
      " 15  SCHEDULED_TIME       1000 non-null   float64\n",
      " 16  ELAPSED_TIME         915 non-null    float64\n",
      " 17  AIR_TIME             915 non-null    float64\n",
      " 18  DISTANCE             1000 non-null   int64  \n",
      " 19  WHEELS_ON            916 non-null    float64\n",
      " 20  TAXI_IN              916 non-null    float64\n",
      " 21  SCHEDULED_ARRIVAL    1000 non-null   int64  \n",
      " 22  ARRIVAL_TIME         916 non-null    float64\n",
      " 23  ARRIVAL_DELAY        915 non-null    float64\n",
      " 24  DIVERTED             1000 non-null   int64  \n",
      " 25  CANCELLED            1000 non-null   int64  \n",
      " 26  AIR_SYSTEM_DELAY     114 non-null    float64\n",
      " 27  SECURITY_DELAY       114 non-null    float64\n",
      " 28  AIRLINE_DELAY        114 non-null    float64\n",
      " 29  LATE_AIRCRAFT_DELAY  114 non-null    float64\n",
      " 30  WEATHER_DELAY        114 non-null    float64\n",
      "dtypes: float64(16), int64(11), object(4)\n",
      "memory usage: 242.3+ KB\n"
     ]
    }
   ],
   "source": [
    "# vamos simplesmente remover a coluna de nossos dados.\n",
    "#Obs. essa á a opção apenas para exercitar as possibilidades de forma didática.\n",
    "# Vários algoritmos podem beneficiar da informação da cabine, mesmo com poucos exemplos.\n",
    "## Cria um novo dataframe (df_train2) sem a coluna CANCELLATION_REASON\n",
    "df_train2 = df_train.drop(\"CANCELLATION_REASON\", axis=1)\n",
    "df_train2.info()"
   ]
  },
  {
   "cell_type": "code",
   "execution_count": 10,
   "metadata": {},
   "outputs": [
    {
     "name": "stdout",
     "output_type": "stream",
     "text": [
      "128.79781420765028\n",
      "120.0\n"
     ]
    },
    {
     "data": {
      "image/png": "[encoded data removed]",
      "text/plain": [
       "<Figure size 640x480 with 1 Axes>"
      ]
     },
     "metadata": {},
     "output_type": "display_data"
    }
   ],
   "source": [
    "#Agora vamos analisar a coluna AIR_TIME. Temos duas opções:\n",
    "\n",
    "#Trocar nulo por um valor (média ou mediana)\n",
    "#Ignorar\n",
    "# A segunda opção limita o uso de alguns algoritmos, mas a primeira também tem os seus problemas.\n",
    "# Vamos analisar a primeira opção e para isso vamos calcular a média e a mediana das idades\n",
    "# e ver o histograma dos dados originais.\n",
    "\n",
    "media_idade = df_train[\"AIR_TIME\"].mean()\n",
    "mediana_idade = df_train[\"AIR_TIME\"].median()\n",
    "\n",
    "print(media_idade)\n",
    "print(mediana_idade)\n",
    "\n",
    "df_train[\"AIR_TIME\"].hist()\n",
    "plt.title(\"Tempo_Voo\")\n",
    "plt.show()"
   ]
  },
  {
   "cell_type": "code",
   "execution_count": 11,
   "metadata": {},
   "outputs": [
    {
     "name": "stderr",
     "output_type": "stream",
     "text": [
      "C:\\Users\\barbo\\AppData\\Local\\Temp\\ipykernel_6168\\316995798.py:5: FutureWarning: A value is trying to be set on a copy of a DataFrame or Series through chained assignment using an inplace method.\n",
      "The behavior will change in pandas 3.0. This inplace method will never work because the intermediate object on which we are setting values always behaves as a copy.\n",
      "\n",
      "For example, when doing 'df[col].method(value, inplace=True)', try using 'df.method({col: value}, inplace=True)' or df[col] = df[col].method(value) instead, to perform the operation inplace on the original object.\n",
      "\n",
      "\n",
      "  df_train2[\"AIR_TIME\"].fillna(media_idade, inplace=True) ## O inplace altera no próprio dataframe em vez de termos de criar outro\n"
     ]
    },
    {
     "data": {
      "image/png": "[encoded data removed]",
      "text/plain": [
       "<Figure size 640x480 with 1 Axes>"
      ]
     },
     "metadata": {},
     "output_type": "display_data"
    }
   ],
   "source": [
    "# Como a média e mediana são muito próximos, a diferença será mínima. Então, vamos \n",
    "# trocar os nulos pela média e depois gerar novo histograma de idades.\n",
    "\n",
    "## preenche os nulos com a média dos voos\n",
    "df_train2[\"AIR_TIME\"].fillna(media_idade, inplace=True) ## O inplace altera no próprio dataframe em vez de termos de criar outro\n",
    "df_train2[\"AIR_TIME\"].hist()\n",
    "plt.title(\"Tempo_Voo\")\n",
    "plt.show()"
   ]
  },
  {
   "cell_type": "code",
   "execution_count": 12,
   "metadata": {},
   "outputs": [
    {
     "name": "stdout",
     "output_type": "stream",
     "text": [
      "TAXI_OUT\n",
      "3.0      2\n",
      "4.0      1\n",
      "6.0      3\n",
      "7.0      9\n",
      "8.0     12\n",
      "9.0     56\n",
      "10.0    75\n",
      "11.0    68\n",
      "12.0    95\n",
      "13.0    79\n",
      "14.0    53\n",
      "15.0    62\n",
      "16.0    51\n",
      "17.0    47\n",
      "18.0    35\n",
      "19.0    30\n",
      "20.0    17\n",
      "21.0    29\n",
      "22.0    18\n",
      "23.0    17\n",
      "24.0    16\n",
      "25.0    16\n",
      "26.0    11\n",
      "27.0    16\n",
      "28.0     6\n",
      "29.0    16\n",
      "30.0    13\n",
      "31.0    12\n",
      "32.0     9\n",
      "33.0    10\n",
      "34.0     1\n",
      "35.0     3\n",
      "36.0     6\n",
      "37.0     6\n",
      "38.0     1\n",
      "39.0     1\n",
      "40.0     2\n",
      "41.0     1\n",
      "42.0     2\n",
      "43.0     1\n",
      "45.0     1\n",
      "46.0     1\n",
      "48.0     2\n",
      "56.0     2\n",
      "61.0     1\n",
      "62.0     1\n",
      "Name: DESTINATION_AIRPORT, dtype: int64\n"
     ]
    }
   ],
   "source": [
    "#Como podemos ver, o formato do histograma modifica-se completamente, \n",
    "# mas essa será nossa opção para essa coluna.\n",
    "# Por último vamos analisar a coluna TAXI_OUT, que tem é um de muitas com poucos valores nulos. \n",
    "# Vamos gerar um histograma:\n",
    "print(df_train2.groupby(\"TAXI_OUT\")[\"DESTINATION_AIRPORT\"].count()) #group by porto de \n",
    "#embarque - número de passageiros por porto de embarque"
   ]
  },
  {
   "cell_type": "code",
   "execution_count": 13,
   "metadata": {},
   "outputs": [
    {
     "name": "stdout",
     "output_type": "stream",
     "text": [
      "<class 'pandas.core.frame.DataFrame'>\n",
      "RangeIndex: 1000 entries, 0 to 999\n",
      "Data columns (total 31 columns):\n",
      " #   Column               Non-Null Count  Dtype  \n",
      "---  ------               --------------  -----  \n",
      " 0   Unnamed: 0           1000 non-null   int64  \n",
      " 1   YEAR                 1000 non-null   int64  \n",
      " 2   MONTH                1000 non-null   int64  \n",
      " 3   DAY                  1000 non-null   int64  \n",
      " 4   DAY_OF_WEEK          1000 non-null   int64  \n",
      " 5   AIRLINE              1000 non-null   object \n",
      " 6   FLIGHT_NUMBER        1000 non-null   int64  \n",
      " 7   TAIL_NUMBER          998 non-null    object \n",
      " 8   ORIGIN_AIRPORT       1000 non-null   object \n",
      " 9   DESTINATION_AIRPORT  1000 non-null   object \n",
      " 10  SCHEDULED_DEPARTURE  1000 non-null   int64  \n",
      " 11  DEPARTURE_TIME       916 non-null    float64\n",
      " 12  DEPARTURE_DELAY      916 non-null    float64\n",
      " 13  TAXI_OUT             1000 non-null   object \n",
      " 14  WHEELS_OFF           916 non-null    float64\n",
      " 15  SCHEDULED_TIME       1000 non-null   float64\n",
      " 16  ELAPSED_TIME         915 non-null    float64\n",
      " 17  AIR_TIME             1000 non-null   float64\n",
      " 18  DISTANCE             1000 non-null   int64  \n",
      " 19  WHEELS_ON            916 non-null    float64\n",
      " 20  TAXI_IN              916 non-null    float64\n",
      " 21  SCHEDULED_ARRIVAL    1000 non-null   int64  \n",
      " 22  ARRIVAL_TIME         916 non-null    float64\n",
      " 23  ARRIVAL_DELAY        915 non-null    float64\n",
      " 24  DIVERTED             1000 non-null   int64  \n",
      " 25  CANCELLED            1000 non-null   int64  \n",
      " 26  AIR_SYSTEM_DELAY     114 non-null    float64\n",
      " 27  SECURITY_DELAY       114 non-null    float64\n",
      " 28  AIRLINE_DELAY        114 non-null    float64\n",
      " 29  LATE_AIRCRAFT_DELAY  114 non-null    float64\n",
      " 30  WEATHER_DELAY        114 non-null    float64\n",
      "dtypes: float64(15), int64(11), object(5)\n",
      "memory usage: 242.3+ KB\n",
      "None\n"
     ]
    },
    {
     "name": "stderr",
     "output_type": "stream",
     "text": [
      "C:\\Users\\barbo\\AppData\\Local\\Temp\\ipykernel_6168\\254892673.py:3: FutureWarning: A value is trying to be set on a copy of a DataFrame or Series through chained assignment using an inplace method.\n",
      "The behavior will change in pandas 3.0. This inplace method will never work because the intermediate object on which we are setting values always behaves as a copy.\n",
      "\n",
      "For example, when doing 'df[col].method(value, inplace=True)', try using 'df.method({col: value}, inplace=True)' or df[col] = df[col].method(value) instead, to perform the operation inplace on the original object.\n",
      "\n",
      "\n",
      "  df_train2[\"TAXI_OUT\"].fillna(\"12.0\", inplace=True)\n",
      "C:\\Users\\barbo\\AppData\\Local\\Temp\\ipykernel_6168\\254892673.py:3: FutureWarning: Setting an item of incompatible dtype is deprecated and will raise an error in a future version of pandas. Value '12.0' has dtype incompatible with float64, please explicitly cast to a compatible dtype first.\n",
      "  df_train2[\"TAXI_OUT\"].fillna(\"12.0\", inplace=True)\n"
     ]
    }
   ],
   "source": [
    "#Como podemos ver nos dados resultantes, a maioria dos passageiros demoraram 12 minutos a apanhar um taxi,\n",
    "# então vamos, nesse caso, atribuir os valores em falta para o valor mais comum:\n",
    "df_train2[\"TAXI_OUT\"].fillna(\"12.0\", inplace=True)\n",
    "print(df_train2.info())"
   ]
  },
  {
   "cell_type": "code",
   "execution_count": 14,
   "metadata": {},
   "outputs": [],
   "source": [
    "#Após aplicar o metod de analise anterior para os restantes valores com poucos falsos\n",
    "#restar-nos-ia salvar os dados.\n",
    "\n",
    "df_train2.to_csv(\"flights_small_less_nulls.csv\", index=False)"
   ]
  }
 ],
 "metadata": {
  "kernelspec": {
   "display_name": "Python 3",
   "language": "python",
   "name": "python3"
  },
  "language_info": {
   "codemirror_mode": {
    "name": "ipython",
    "version": 3
   },
   "file_extension": ".py",
   "mimetype": "text/x-python",
   "name": "python",
   "nbconvert_exporter": "python",
   "pygments_lexer": "ipython3",
   "version": "3.13.2"
  }
 },
 "nbformat": 4,
 "nbformat_minor": 2
}
