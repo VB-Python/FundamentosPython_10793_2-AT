{
 "cells": [
  {
   "cell_type": "code",
   "execution_count": 1,
   "metadata": {},
   "outputs": [],
   "source": [
    "import matplotlib.pyplot as plt\n",
    "import matplotlib as mpl\n",
    "import pandas as pd\n",
    "import numpy as np\n",
    "import pylab as plt"
   ]
  },
  {
   "cell_type": "code",
   "execution_count": 2,
   "metadata": {},
   "outputs": [],
   "source": [
    "#Vamos agora carregar nossos dados já sem os nulos\n",
    "df_train = pd.read_csv(\"train_no_nulls.csv\")"
   ]
  },
  {
   "cell_type": "code",
   "execution_count": 3,
   "metadata": {},
   "outputs": [
    {
     "name": "stdout",
     "output_type": "stream",
     "text": [
      "       PassengerId    Survived      Pclass         Age       SibSp  \\\n",
      "count   891.000000  891.000000  891.000000  891.000000  891.000000   \n",
      "mean    446.000000    0.383838    2.308642   29.839174    0.523008   \n",
      "std     257.353842    0.486592    0.836071   13.454159    1.102743   \n",
      "min       1.000000    0.000000    1.000000    0.420000    0.000000   \n",
      "25%     223.500000    0.000000    2.000000   22.000000    0.000000   \n",
      "50%     446.000000    0.000000    3.000000   29.839174    0.000000   \n",
      "75%     668.500000    1.000000    3.000000   35.000000    1.000000   \n",
      "max     891.000000    1.000000    3.000000  133.000000    8.000000   \n",
      "\n",
      "            Parch         Fare  \n",
      "count  891.000000   891.000000  \n",
      "mean     0.381594    37.234698  \n",
      "std      0.806057   173.359298  \n",
      "min      0.000000   -10.100000  \n",
      "25%      0.000000     7.910400  \n",
      "50%      0.000000    14.454200  \n",
      "75%      0.000000    31.000000  \n",
      "max      6.000000  5012.329200  \n"
     ]
    }
   ],
   "source": [
    "#vamos agora exercitar a remoção de outliers. Vale ressaltar que os dados originais foram modificados\n",
    "# para incluir ocorrências incomuns em alguns atributos.\n",
    "#O primeiro passo para identificar outliers é ver uma breve descrição dos dados numéricos.\n",
    "\n",
    "print(df_train.describe())"
   ]
  },
  {
   "cell_type": "code",
   "execution_count": 4,
   "metadata": {},
   "outputs": [
    {
     "name": "stdout",
     "output_type": "stream",
     "text": [
      "103    133.0\n",
      "630     80.0\n",
      "851     74.0\n",
      "493     71.0\n",
      "96      71.0\n",
      "Name: Age, dtype: float64\n",
      "803    0.42\n",
      "755    0.67\n",
      "469    0.75\n",
      "644    0.75\n",
      "78     0.83\n",
      "Name: Age, dtype: float64\n"
     ]
    }
   ],
   "source": [
    "#As colunas que nos interessam são 'Age', 'SibSP', 'Parch' e 'Fare', poisas demais são categoricas ou apenas o ID do passageiro.\n",
    "# Observando as 4 colunas, podemos ver algumas coisas incomuns:\n",
    "#* A menor tarifa é negativa (o que é provavelmente um erro) e a maior é um numero 10x maior que o Terceiro Quartil (75% percentil)\n",
    "# Há alguém com idade 133 anos. Hoje já parece improvável. Deve tratar-se também de um outlier (ou erro).\n",
    "# A discussão sobre outliers é subjectiva. Sem o conhecimento de domínio do problema (como fizemos com a idade), é muito dificil dizer o que é um outlier.\n",
    "# Mas para fins didáticos, vamos tratar aqui as anomalias como erros nos dados e vamos removê-los trocando pelo valor médio.\n",
    "# #Primeiro, vamos mostrar os 5 maiores e os 5 menores idades.\n",
    "\n",
    "print(df_train.sort_values(\"Age\", ascending=False).head(5)[\"Age\"])\n",
    "print(df_train.sort_values(\"Age\", ascending=True).head(5)[\"Age\"])"
   ]
  },
  {
   "cell_type": "code",
   "execution_count": 5,
   "metadata": {},
   "outputs": [],
   "source": [
    "#No caso da coluna idade, podemos notar que o valor 133 parece fora da normalidade.\n",
    "#Vamos trocá-lo pelo valor médio das idades, que já calculamos na limpesaNulos.py.\n",
    "\n",
    "media_idade = df_train[\"Age\"].mean()\n",
    "df_train.loc[df_train[\"Age\"]==133, \"Age\"] = media_idade ## Aqui substituimos os valores de idade iguais a 133 pela média"
   ]
  },
  {
   "cell_type": "code",
   "execution_count": 6,
   "metadata": {},
   "outputs": [
    {
     "name": "stdout",
     "output_type": "stream",
     "text": [
      "258    5012.3292\n",
      "737     512.3292\n",
      "679     512.3292\n",
      "88      263.0000\n",
      "438     263.0000\n",
      "Name: Fare, dtype: float64\n",
      "156   -10.1\n",
      "815     0.0\n",
      "413     0.0\n",
      "806     0.0\n",
      "302     0.0\n",
      "Name: Fare, dtype: float64\n"
     ]
    }
   ],
   "source": [
    "#Agora vamos fazer o mesmo para o campo tarifa\n",
    "print(df_train.sort_values(\"Fare\", ascending=False).head(5)[\"Fare\"])\n",
    "print(df_train.sort_values(\"Fare\", ascending=True).head(5)[\"Fare\"])"
   ]
  },
  {
   "cell_type": "code",
   "execution_count": 7,
   "metadata": {},
   "outputs": [],
   "source": [
    "#Aqui confirmamos o valor negativo e um valor 10x do bilhete mais caro para o segundo mais caro.\n",
    "# Vamos tratá-los como erros e atualizá-los com o valor da mediana da tarifa.\n",
    "# Usaremos a mediana em vez de médi, pois ela é menos sensível aos outliers.\n",
    "\n",
    "mediana_tarifa = df_train[\"Fare\"].median()\n",
    "df_train.loc[df_train[\"Fare\"]>5000, \"Fare\"] = mediana_tarifa\n",
    "df_train.loc[df_train[\"Fare\"]<0, \"Fare\"] = mediana_tarifa"
   ]
  },
  {
   "cell_type": "code",
   "execution_count": 8,
   "metadata": {},
   "outputs": [
    {
     "name": "stdout",
     "output_type": "stream",
     "text": [
      "737    512.3292\n",
      "679    512.3292\n",
      "27     263.0000\n",
      "438    263.0000\n",
      "341    263.0000\n",
      "Name: Fare, dtype: float64\n",
      "822    0.0\n",
      "806    0.0\n",
      "815    0.0\n",
      "413    0.0\n",
      "466    0.0\n",
      "Name: Fare, dtype: float64\n"
     ]
    }
   ],
   "source": [
    "#vamos conferir a remoção de outliers\n",
    "\n",
    "print(df_train.sort_values(\"Fare\", ascending=False).head(5)[\"Fare\"])\n",
    "print(df_train.sort_values(\"Fare\", ascending=True).head(5)[\"Fare\"])"
   ]
  },
  {
   "cell_type": "code",
   "execution_count": 9,
   "metadata": {},
   "outputs": [],
   "source": [
    "#vamos agora guerdar os nossos dados\n",
    "\n",
    "df_train.to_csv(\"train_no_nulls_no_outliers.csv\", index=False)"
   ]
  }
 ],
 "metadata": {
  "kernelspec": {
   "display_name": "Python 3",
   "language": "python",
   "name": "python3"
  },
  "language_info": {
   "codemirror_mode": {
    "name": "ipython",
    "version": 3
   },
   "file_extension": ".py",
   "mimetype": "text/x-python",
   "name": "python",
   "nbconvert_exporter": "python",
   "pygments_lexer": "ipython3",
   "version": "3.13.2"
  }
 },
 "nbformat": 4,
 "nbformat_minor": 2
}
